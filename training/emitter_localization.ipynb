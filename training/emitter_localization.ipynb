{
 "cells": [
  {
   "cell_type": "code",
   "execution_count": 2,
   "id": "37af8293",
   "metadata": {},
   "outputs": [],
   "source": [
    "import os\n",
    "import glob\n",
    "import numpy as np\n",
    "import torch\n",
    "import torch.nn as nn\n",
    "import torch.optim as optim\n",
    "from torch.utils.data import Dataset, DataLoader\n",
    "import matplotlib.pyplot as plt\n",
    "from tqdm import tqdm\n",
    "import random\n",
    "import time\n",
    "\n",
    "# Constants\n",
    "MAX_PIPES = 40  # Updated to account for pipe1-pipe39 indexing\n",
    "PIPE_OH_DIM = MAX_PIPES\n",
    "PIPE_FEAT_DIM = 3  # length, radius, num_receivers\n",
    "RECEIVER_FEAT_DIM = 10  # r, z, rad + 7 stats (from calculate_statistics function)\n",
    "DEVICE = torch.device(\"cuda\" if torch.cuda.is_available() else \"cpu\")"
   ]
  },
  {
   "cell_type": "code",
   "execution_count": 3,
   "id": "4c06cf58",
   "metadata": {},
   "outputs": [],
   "source": [
    "class EmitterDataset(Dataset):\n",
    "    def __init__(self, data_dir):\n",
    "        \"\"\"\n",
    "        Dataset for emitter localization using pipe network receiver data.\n",
    "        \n",
    "        Args:\n",
    "            data_dir: Directory containing simulation runs (e.g., Outputs_Copy)\n",
    "        \"\"\"\n",
    "        self.data_dir = data_dir\n",
    "        # Get all run folders (timestamp directories)\n",
    "        self.run_dirs = sorted([\n",
    "            os.path.join(data_dir, d) for d in os.listdir(data_dir)\n",
    "            if os.path.isdir(os.path.join(data_dir, d)) and not d.startswith('.')\n",
    "        ])\n",
    "        print(f\"Found {len(self.run_dirs)} simulation runs in {data_dir}\")\n",
    "    \n",
    "    def __len__(self):\n",
    "        return len(self.run_dirs)\n",
    "    \n",
    "    def __getitem__(self, idx):\n",
    "        \"\"\"Process a single simulation run and return features and target\"\"\"\n",
    "        run_dir = self.run_dirs[idx]\n",
    "        \n",
    "        # Initialize feature arrays\n",
    "        pipe_features = np.zeros((MAX_PIPES, PIPE_FEAT_DIM), dtype=np.float32)\n",
    "        receiver_features = []\n",
    "        receiver_exists = np.zeros(MAX_PIPES, dtype=np.float32)\n",
    "        \n",
    "        # Process all pipe folders in this run\n",
    "        for i in range(1, MAX_PIPES):  # Starting from pipe1\n",
    "            pipe_dir = os.path.join(run_dir, f\"pipe{i}\")\n",
    "            if not os.path.exists(pipe_dir):\n",
    "                continue\n",
    "                \n",
    "            # Read pipe data from simulation_data.txt\n",
    "            sim_data_path = os.path.join(pipe_dir, \"simulation_data.txt\")\n",
    "            if os.path.exists(sim_data_path):\n",
    "                with open(sim_data_path, 'r') as f:\n",
    "                    line = f.readline().strip().split()\n",
    "                    if len(line) >= 5:\n",
    "                        pipe_id = int(line[0])  # Should be i\n",
    "                        parent_id = int(line[1])  # -1 for root\n",
    "                        length = float(line[2])\n",
    "                        radius = float(line[3])\n",
    "                        num_receivers = float(line[4])\n",
    "                        \n",
    "                        # Store pipe features (ignoring parent_id in features for simplicity)\n",
    "                        pipe_features[pipe_id] = [length, radius, num_receivers]\n",
    "            \n",
    "            # Check for receiver files\n",
    "            receiver_files = glob.glob(os.path.join(pipe_dir, \"#*Ring type.txt\"))\n",
    "            for rec_file in receiver_files:\n",
    "                try:\n",
    "                    with open(rec_file, 'r') as f:\n",
    "                        # First line contains pipe ID, r coordinate, z coordinate\n",
    "                        header = f.readline().strip().split()\n",
    "                        pipe_id = int(header[0])\n",
    "                        r_coord = float(header[1])\n",
    "                        z_coord = float(header[2])\n",
    "                        \n",
    "                        # Second line contains statistics\n",
    "                        stats_line = f.readline().strip().split(',')\n",
    "                        stats = [float(val.strip()) for val in stats_line]\n",
    "                        \n",
    "                        # Mark this pipe as having a receiver\n",
    "                        receiver_exists[pipe_id] = 1.0\n",
    "                        \n",
    "                        # Add receiver features: [pipe_id, r, z, stats...]\n",
    "                        receiver_features.append(np.array([pipe_id] + [r_coord, z_coord] + stats, dtype=np.float32))\n",
    "                except Exception as e:\n",
    "                    print(f\"Error reading receiver file {rec_file}: {e}\")\n",
    "        \n",
    "        # Read target from targetOutput.txt\n",
    "        target_file = os.path.join(run_dir, \"targetOutput.txt\")\n",
    "        if os.path.exists(target_file):\n",
    "            with open(target_file, 'r') as f:\n",
    "                target_data = f.readline().strip().split()\n",
    "                emitter_pipe_id = int(target_data[0])\n",
    "                emitter_r = float(target_data[1])\n",
    "                emitter_z = float(target_data[2])\n",
    "                target = np.array([emitter_pipe_id, emitter_r, emitter_z], dtype=np.float32)\n",
    "        else:\n",
    "            raise FileNotFoundError(f\"Target file not found in {run_dir}\")\n",
    "        \n",
    "        # Create feature vector\n",
    "        # Flatten pipe features and append receiver information\n",
    "        flat_pipe_features = pipe_features.flatten()\n",
    "        \n",
    "        # If no receivers, use empty array\n",
    "        if not receiver_features:\n",
    "            receiver_vec = np.zeros(3, dtype=np.float32)  # Just minimum placeholder\n",
    "        else:\n",
    "            # Take the mean of receiver features if there are multiple receivers\n",
    "            receiver_vec = np.mean(receiver_features, axis=0) if len(receiver_features) > 1 else receiver_features[0]\n",
    "        \n",
    "        # Final feature vector: pipe features + receiver features + receiver existence flags\n",
    "        features = np.concatenate([flat_pipe_features, receiver_vec, receiver_exists])\n",
    "        \n",
    "        return torch.tensor(features, dtype=torch.float32), torch.tensor(target, dtype=torch.float32)"
   ]
  },
  {
   "cell_type": "code",
   "execution_count": 4,
   "id": "6ca0948e",
   "metadata": {},
   "outputs": [],
   "source": [
    "class EmitterLocalizationModel(nn.Module):\n",
    "    def __init__(self, input_dim):\n",
    "        super(EmitterLocalizationModel, self).__init__()\n",
    "        \n",
    "        # Calculate input dimensions based on our feature extraction\n",
    "        self.network = nn.Sequential(\n",
    "            # First layer\n",
    "            nn.Linear(input_dim, 512),\n",
    "            nn.BatchNorm1d(512),\n",
    "            nn.ReLU(),\n",
    "            nn.Dropout(0.2),\n",
    "            \n",
    "            # Second layer\n",
    "            nn.Linear(512, 256),\n",
    "            nn.BatchNorm1d(256),\n",
    "            nn.ReLU(),\n",
    "            nn.Dropout(0.2),\n",
    "            \n",
    "            # Third layer\n",
    "            nn.Linear(256, 128),\n",
    "            nn.BatchNorm1d(128),\n",
    "            nn.ReLU(),\n",
    "            \n",
    "            # Output layer - predict pipe_id, r, z\n",
    "            nn.Linear(128, 3)\n",
    "        )\n",
    "        \n",
    "    def forward(self, x):\n",
    "        return self.network(x)"
   ]
  },
  {
   "cell_type": "code",
   "execution_count": 5,
   "id": "6e6dcb6f",
   "metadata": {},
   "outputs": [],
   "source": [
    "def train_model(train_loader, val_loader, model, epochs=50, lr=3e-4):\n",
    "    \"\"\"Train the emitter localization model\"\"\"\n",
    "    criterion = nn.MSELoss()\n",
    "    optimizer = optim.Adam(model.parameters(), lr=lr)\n",
    "    \n",
    "    train_losses = []\n",
    "    val_losses = []\n",
    "    best_val_loss = float('inf')\n",
    "    \n",
    "    for epoch in range(1, epochs + 1):\n",
    "        # Training phase\n",
    "        model.train()\n",
    "        train_loss = 0.0\n",
    "        start_time = time.time()\n",
    "        \n",
    "        loop = tqdm(train_loader, desc=f\"Epoch {epoch:02d}\", unit=\"batch\")\n",
    "        \n",
    "        for features, targets in loop:\n",
    "            features, targets = features.to(DEVICE), targets.to(DEVICE)\n",
    "            \n",
    "            optimizer.zero_grad()\n",
    "            outputs = model(features)\n",
    "            loss = criterion(outputs, targets)\n",
    "            loss.backward()\n",
    "            optimizer.step()\n",
    "            \n",
    "            batch_loss = loss.item()\n",
    "            train_loss += batch_loss * features.size(0)\n",
    "            \n",
    "            loop.set_postfix(train_loss=f\"{batch_loss:.4f}\")\n",
    "            \n",
    "        avg_train_loss = train_loss / len(train_loader.dataset)\n",
    "        train_losses.append(avg_train_loss)\n",
    "        elapsed = time.time() - start_time\n",
    "        \n",
    "        # Validation phase\n",
    "        model.eval()\n",
    "        val_loss = 0.0\n",
    "        with torch.no_grad():\n",
    "            for features, targets in val_loader:\n",
    "                features, targets = features.to(DEVICE), targets.to(DEVICE)\n",
    "                outputs = model(features)\n",
    "                loss = criterion(outputs, targets)\n",
    "                val_loss += loss.item() * features.size(0)\n",
    "                \n",
    "        avg_val_loss = val_loss / len(val_loader.dataset)\n",
    "        val_losses.append(avg_val_loss)\n",
    "        \n",
    "        print(f\"Epoch {epoch:02d} | Train Loss: {avg_train_loss:.6f} | Val Loss: {avg_val_loss:.6f} | Time: {elapsed:.2f}s\")\n",
    "        \n",
    "        # Save best model\n",
    "        if avg_val_loss < best_val_loss:\n",
    "            best_val_loss = avg_val_loss\n",
    "            torch.save(model.state_dict(), \"best_emitter_model.pt\")\n",
    "            print(f\"New best model saved with validation loss: {best_val_loss:.6f}\")\n",
    "    \n",
    "    # Plot training history\n",
    "    plt.figure(figsize=(10, 5))\n",
    "    plt.plot(train_losses, label='Training Loss')\n",
    "    plt.plot(val_losses, label='Validation Loss')\n",
    "    plt.xlabel('Epoch')\n",
    "    plt.ylabel('Loss')\n",
    "    plt.title('Training and Validation Loss')\n",
    "    plt.legend()\n",
    "    plt.savefig('emitter_training_loss.png')\n",
    "    plt.show()\n",
    "    \n",
    "    return train_losses, val_losses\n",
    "\n",
    "def evaluate_model(model, test_loader):\n",
    "    \"\"\"Evaluate the trained model\"\"\"\n",
    "    model.eval()\n",
    "    criterion = nn.MSELoss()\n",
    "    test_loss = 0.0\n",
    "    \n",
    "    # For pipe prediction accuracy\n",
    "    correct_pipe = 0\n",
    "    total = 0\n",
    "    \n",
    "    # For position error metrics\n",
    "    position_errors = []\n",
    "    \n",
    "    with torch.no_grad():\n",
    "        for features, targets in tqdm(test_loader, desc=\"Evaluating\"):\n",
    "            features, targets = features.to(DEVICE), targets.to(DEVICE)\n",
    "            outputs = model(features)\n",
    "            \n",
    "            # Calculate loss\n",
    "            loss = criterion(outputs, targets)\n",
    "            test_loss += loss.item() * features.size(0)\n",
    "            \n",
    "            # Check pipe prediction accuracy\n",
    "            pred_pipe = torch.round(outputs[:, 0])\n",
    "            true_pipe = targets[:, 0]\n",
    "            correct_pipe += (pred_pipe == true_pipe).sum().item()\n",
    "            total += targets.size(0)\n",
    "            \n",
    "            # Calculate position error (Euclidean distance) for r and z coordinates\n",
    "            pred_r_z = outputs[:, 1:]\n",
    "            true_r_z = targets[:, 1:]\n",
    "            position_error = torch.sqrt(torch.sum((pred_r_z - true_r_z) ** 2, dim=1))\n",
    "            position_errors.extend(position_error.cpu().numpy())\n",
    "    \n",
    "    avg_test_loss = test_loss / len(test_loader.dataset)\n",
    "    pipe_accuracy = correct_pipe / total * 100\n",
    "    avg_position_error = np.mean(position_errors)\n",
    "    \n",
    "    print(f\"Test Loss: {avg_test_loss:.6f}\")\n",
    "    print(f\"Pipe Prediction Accuracy: {pipe_accuracy:.2f}%\")\n",
    "    print(f\"Average Position Error: {avg_position_error:.6f} units\")\n",
    "    \n",
    "    return avg_test_loss, pipe_accuracy, avg_position_error"
   ]
  },
  {
   "cell_type": "code",
   "execution_count": 6,
   "id": "4a7e6fe6",
   "metadata": {},
   "outputs": [
    {
     "name": "stdout",
     "output_type": "stream",
     "text": [
      "Found 1000 simulation runs in /Users/daghanerdonmez/Desktop/molecular-simulation-mlp/output-processing/Outputs_Copy\n",
      "Dataset split: Train=700, Validation=150, Test=150\n",
      "Input dimension: 170\n",
      "Training on cpu\n",
      "EmitterLocalizationModel(\n",
      "  (network): Sequential(\n",
      "    (0): Linear(in_features=170, out_features=512, bias=True)\n",
      "    (1): BatchNorm1d(512, eps=1e-05, momentum=0.1, affine=True, track_running_stats=True)\n",
      "    (2): ReLU()\n",
      "    (3): Dropout(p=0.2, inplace=False)\n",
      "    (4): Linear(in_features=512, out_features=256, bias=True)\n",
      "    (5): BatchNorm1d(256, eps=1e-05, momentum=0.1, affine=True, track_running_stats=True)\n",
      "    (6): ReLU()\n",
      "    (7): Dropout(p=0.2, inplace=False)\n",
      "    (8): Linear(in_features=256, out_features=128, bias=True)\n",
      "    (9): BatchNorm1d(128, eps=1e-05, momentum=0.1, affine=True, track_running_stats=True)\n",
      "    (10): ReLU()\n",
      "    (11): Linear(in_features=128, out_features=3, bias=True)\n",
      "  )\n",
      ")\n"
     ]
    },
    {
     "name": "stderr",
     "output_type": "stream",
     "text": [
      "Epoch 01: 100%|██████████| 44/44 [00:05<00:00,  7.50batch/s, train_loss=147.0908]\n"
     ]
    },
    {
     "name": "stdout",
     "output_type": "stream",
     "text": [
      "Epoch 01 | Train Loss: 166.154053 | Val Loss: 160.652044 | Time: 5.90s\n",
      "New best model saved with validation loss: 160.652044\n"
     ]
    },
    {
     "name": "stderr",
     "output_type": "stream",
     "text": [
      "Epoch 02: 100%|██████████| 44/44 [00:05<00:00,  8.37batch/s, train_loss=96.4437] \n"
     ]
    },
    {
     "name": "stdout",
     "output_type": "stream",
     "text": [
      "Epoch 02 | Train Loss: 154.134660 | Val Loss: 149.289876 | Time: 5.26s\n",
      "New best model saved with validation loss: 149.289876\n"
     ]
    },
    {
     "name": "stderr",
     "output_type": "stream",
     "text": [
      "Epoch 03: 100%|██████████| 44/44 [00:04<00:00,  9.29batch/s, train_loss=221.7527]\n"
     ]
    },
    {
     "name": "stdout",
     "output_type": "stream",
     "text": [
      "Epoch 03 | Train Loss: 145.277720 | Val Loss: 141.582995 | Time: 4.74s\n",
      "New best model saved with validation loss: 141.582995\n"
     ]
    },
    {
     "name": "stderr",
     "output_type": "stream",
     "text": [
      "Epoch 04: 100%|██████████| 44/44 [00:04<00:00, 10.06batch/s, train_loss=74.3479] \n"
     ]
    },
    {
     "name": "stdout",
     "output_type": "stream",
     "text": [
      "Epoch 04 | Train Loss: 134.954573 | Val Loss: 130.309761 | Time: 4.37s\n",
      "New best model saved with validation loss: 130.309761\n"
     ]
    },
    {
     "name": "stderr",
     "output_type": "stream",
     "text": [
      "Epoch 05: 100%|██████████| 44/44 [00:03<00:00, 11.56batch/s, train_loss=103.3242]\n"
     ]
    },
    {
     "name": "stdout",
     "output_type": "stream",
     "text": [
      "Epoch 05 | Train Loss: 125.343776 | Val Loss: 121.164361 | Time: 3.81s\n",
      "New best model saved with validation loss: 121.164361\n"
     ]
    },
    {
     "name": "stderr",
     "output_type": "stream",
     "text": [
      "Epoch 06: 100%|██████████| 44/44 [00:03<00:00, 14.14batch/s, train_loss=101.1556]\n"
     ]
    },
    {
     "name": "stdout",
     "output_type": "stream",
     "text": [
      "Epoch 06 | Train Loss: 115.533221 | Val Loss: 109.588768 | Time: 3.11s\n",
      "New best model saved with validation loss: 109.588768\n"
     ]
    },
    {
     "name": "stderr",
     "output_type": "stream",
     "text": [
      "Epoch 07: 100%|██████████| 44/44 [00:02<00:00, 15.05batch/s, train_loss=97.0200] \n"
     ]
    },
    {
     "name": "stdout",
     "output_type": "stream",
     "text": [
      "Epoch 07 | Train Loss: 105.909125 | Val Loss: 107.581593 | Time: 2.93s\n",
      "New best model saved with validation loss: 107.581593\n"
     ]
    },
    {
     "name": "stderr",
     "output_type": "stream",
     "text": [
      "Epoch 08: 100%|██████████| 44/44 [00:02<00:00, 15.53batch/s, train_loss=87.2675] \n"
     ]
    },
    {
     "name": "stdout",
     "output_type": "stream",
     "text": [
      "Epoch 08 | Train Loss: 95.785332 | Val Loss: 89.253256 | Time: 2.83s\n",
      "New best model saved with validation loss: 89.253256\n"
     ]
    },
    {
     "name": "stderr",
     "output_type": "stream",
     "text": [
      "Epoch 09: 100%|██████████| 44/44 [00:02<00:00, 15.30batch/s, train_loss=77.0303] \n"
     ]
    },
    {
     "name": "stdout",
     "output_type": "stream",
     "text": [
      "Epoch 09 | Train Loss: 86.837989 | Val Loss: 87.772086 | Time: 2.88s\n",
      "New best model saved with validation loss: 87.772086\n"
     ]
    },
    {
     "name": "stderr",
     "output_type": "stream",
     "text": [
      "Epoch 10: 100%|██████████| 44/44 [00:02<00:00, 16.93batch/s, train_loss=44.7157] \n"
     ]
    },
    {
     "name": "stdout",
     "output_type": "stream",
     "text": [
      "Epoch 10 | Train Loss: 77.473972 | Val Loss: 81.634914 | Time: 2.60s\n",
      "New best model saved with validation loss: 81.634914\n"
     ]
    },
    {
     "name": "stderr",
     "output_type": "stream",
     "text": [
      "Epoch 11: 100%|██████████| 44/44 [00:02<00:00, 16.64batch/s, train_loss=39.1115] \n"
     ]
    },
    {
     "name": "stdout",
     "output_type": "stream",
     "text": [
      "Epoch 11 | Train Loss: 69.392478 | Val Loss: 75.209595 | Time: 2.65s\n",
      "New best model saved with validation loss: 75.209595\n"
     ]
    },
    {
     "name": "stderr",
     "output_type": "stream",
     "text": [
      "Epoch 12: 100%|██████████| 44/44 [00:02<00:00, 16.59batch/s, train_loss=24.3635] \n"
     ]
    },
    {
     "name": "stdout",
     "output_type": "stream",
     "text": [
      "Epoch 12 | Train Loss: 61.754271 | Val Loss: 62.425516 | Time: 2.65s\n",
      "New best model saved with validation loss: 62.425516\n"
     ]
    },
    {
     "name": "stderr",
     "output_type": "stream",
     "text": [
      "Epoch 13: 100%|██████████| 44/44 [00:02<00:00, 17.93batch/s, train_loss=57.1068] \n"
     ]
    },
    {
     "name": "stdout",
     "output_type": "stream",
     "text": [
      "Epoch 13 | Train Loss: 54.498761 | Val Loss: 54.233137 | Time: 2.45s\n",
      "New best model saved with validation loss: 54.233137\n"
     ]
    },
    {
     "name": "stderr",
     "output_type": "stream",
     "text": [
      "Epoch 14: 100%|██████████| 44/44 [00:02<00:00, 16.67batch/s, train_loss=49.8874] \n"
     ]
    },
    {
     "name": "stdout",
     "output_type": "stream",
     "text": [
      "Epoch 14 | Train Loss: 49.171703 | Val Loss: 52.188121 | Time: 2.64s\n",
      "New best model saved with validation loss: 52.188121\n"
     ]
    },
    {
     "name": "stderr",
     "output_type": "stream",
     "text": [
      "Epoch 15: 100%|██████████| 44/44 [00:02<00:00, 16.39batch/s, train_loss=28.6182]\n"
     ]
    },
    {
     "name": "stdout",
     "output_type": "stream",
     "text": [
      "Epoch 15 | Train Loss: 43.327970 | Val Loss: 44.412485 | Time: 2.69s\n",
      "New best model saved with validation loss: 44.412485\n"
     ]
    },
    {
     "name": "stderr",
     "output_type": "stream",
     "text": [
      "Epoch 16: 100%|██████████| 44/44 [00:02<00:00, 16.69batch/s, train_loss=22.9347]\n"
     ]
    },
    {
     "name": "stdout",
     "output_type": "stream",
     "text": [
      "Epoch 16 | Train Loss: 40.470458 | Val Loss: 41.439471 | Time: 2.64s\n",
      "New best model saved with validation loss: 41.439471\n"
     ]
    },
    {
     "name": "stderr",
     "output_type": "stream",
     "text": [
      "Epoch 17: 100%|██████████| 44/44 [00:02<00:00, 17.98batch/s, train_loss=34.5377]\n"
     ]
    },
    {
     "name": "stdout",
     "output_type": "stream",
     "text": [
      "Epoch 17 | Train Loss: 36.646908 | Val Loss: 38.748227 | Time: 2.45s\n",
      "New best model saved with validation loss: 38.748227\n"
     ]
    },
    {
     "name": "stderr",
     "output_type": "stream",
     "text": [
      "Epoch 18: 100%|██████████| 44/44 [00:02<00:00, 17.61batch/s, train_loss=35.3465]\n"
     ]
    },
    {
     "name": "stdout",
     "output_type": "stream",
     "text": [
      "Epoch 18 | Train Loss: 35.276923 | Val Loss: 40.149268 | Time: 2.50s\n"
     ]
    },
    {
     "name": "stderr",
     "output_type": "stream",
     "text": [
      "Epoch 19: 100%|██████████| 44/44 [00:02<00:00, 17.97batch/s, train_loss=39.7866]\n"
     ]
    },
    {
     "name": "stdout",
     "output_type": "stream",
     "text": [
      "Epoch 19 | Train Loss: 33.491610 | Val Loss: 38.033619 | Time: 2.45s\n",
      "New best model saved with validation loss: 38.033619\n"
     ]
    },
    {
     "name": "stderr",
     "output_type": "stream",
     "text": [
      "Epoch 20: 100%|██████████| 44/44 [00:02<00:00, 16.57batch/s, train_loss=46.2407]\n"
     ]
    },
    {
     "name": "stdout",
     "output_type": "stream",
     "text": [
      "Epoch 20 | Train Loss: 32.880310 | Val Loss: 35.422155 | Time: 2.66s\n",
      "New best model saved with validation loss: 35.422155\n"
     ]
    },
    {
     "name": "stderr",
     "output_type": "stream",
     "text": [
      "Epoch 21: 100%|██████████| 44/44 [00:02<00:00, 17.81batch/s, train_loss=25.9686]\n"
     ]
    },
    {
     "name": "stdout",
     "output_type": "stream",
     "text": [
      "Epoch 21 | Train Loss: 29.130906 | Val Loss: 36.223006 | Time: 2.47s\n"
     ]
    },
    {
     "name": "stderr",
     "output_type": "stream",
     "text": [
      "Epoch 22: 100%|██████████| 44/44 [00:02<00:00, 17.22batch/s, train_loss=29.2031]\n"
     ]
    },
    {
     "name": "stdout",
     "output_type": "stream",
     "text": [
      "Epoch 22 | Train Loss: 30.006824 | Val Loss: 33.004101 | Time: 2.56s\n",
      "New best model saved with validation loss: 33.004101\n"
     ]
    },
    {
     "name": "stderr",
     "output_type": "stream",
     "text": [
      "Epoch 23: 100%|██████████| 44/44 [00:02<00:00, 18.14batch/s, train_loss=33.8353]\n"
     ]
    },
    {
     "name": "stdout",
     "output_type": "stream",
     "text": [
      "Epoch 23 | Train Loss: 28.975128 | Val Loss: 33.658723 | Time: 2.43s\n"
     ]
    },
    {
     "name": "stderr",
     "output_type": "stream",
     "text": [
      "Epoch 24: 100%|██████████| 44/44 [00:02<00:00, 16.61batch/s, train_loss=33.1560]\n"
     ]
    },
    {
     "name": "stdout",
     "output_type": "stream",
     "text": [
      "Epoch 24 | Train Loss: 28.694130 | Val Loss: 32.234673 | Time: 2.65s\n",
      "New best model saved with validation loss: 32.234673\n"
     ]
    },
    {
     "name": "stderr",
     "output_type": "stream",
     "text": [
      "Epoch 25: 100%|██████████| 44/44 [00:02<00:00, 17.09batch/s, train_loss=41.4737]\n"
     ]
    },
    {
     "name": "stdout",
     "output_type": "stream",
     "text": [
      "Epoch 25 | Train Loss: 27.188960 | Val Loss: 33.918145 | Time: 2.58s\n"
     ]
    },
    {
     "name": "stderr",
     "output_type": "stream",
     "text": [
      "Epoch 26: 100%|██████████| 44/44 [00:02<00:00, 17.77batch/s, train_loss=30.5452]\n"
     ]
    },
    {
     "name": "stdout",
     "output_type": "stream",
     "text": [
      "Epoch 26 | Train Loss: 28.173331 | Val Loss: 31.649911 | Time: 2.48s\n",
      "New best model saved with validation loss: 31.649911\n"
     ]
    },
    {
     "name": "stderr",
     "output_type": "stream",
     "text": [
      "Epoch 27: 100%|██████████| 44/44 [00:02<00:00, 16.33batch/s, train_loss=26.7387]\n"
     ]
    },
    {
     "name": "stdout",
     "output_type": "stream",
     "text": [
      "Epoch 27 | Train Loss: 28.208512 | Val Loss: 30.595216 | Time: 2.70s\n",
      "New best model saved with validation loss: 30.595216\n"
     ]
    },
    {
     "name": "stderr",
     "output_type": "stream",
     "text": [
      "Epoch 28: 100%|██████████| 44/44 [00:02<00:00, 18.19batch/s, train_loss=11.4948]\n"
     ]
    },
    {
     "name": "stdout",
     "output_type": "stream",
     "text": [
      "Epoch 28 | Train Loss: 26.868157 | Val Loss: 29.606199 | Time: 2.42s\n",
      "New best model saved with validation loss: 29.606199\n"
     ]
    },
    {
     "name": "stderr",
     "output_type": "stream",
     "text": [
      "Epoch 29: 100%|██████████| 44/44 [00:02<00:00, 17.58batch/s, train_loss=22.5147]\n"
     ]
    },
    {
     "name": "stdout",
     "output_type": "stream",
     "text": [
      "Epoch 29 | Train Loss: 26.367716 | Val Loss: 30.560763 | Time: 2.50s\n"
     ]
    },
    {
     "name": "stderr",
     "output_type": "stream",
     "text": [
      "Epoch 30: 100%|██████████| 44/44 [00:02<00:00, 17.10batch/s, train_loss=54.3361]\n"
     ]
    },
    {
     "name": "stdout",
     "output_type": "stream",
     "text": [
      "Epoch 30 | Train Loss: 27.324154 | Val Loss: 28.600942 | Time: 2.57s\n",
      "New best model saved with validation loss: 28.600942\n"
     ]
    },
    {
     "name": "stderr",
     "output_type": "stream",
     "text": [
      "Epoch 31: 100%|██████████| 44/44 [00:02<00:00, 15.64batch/s, train_loss=28.0806]\n"
     ]
    },
    {
     "name": "stdout",
     "output_type": "stream",
     "text": [
      "Epoch 31 | Train Loss: 26.618676 | Val Loss: 29.378039 | Time: 2.81s\n"
     ]
    },
    {
     "name": "stderr",
     "output_type": "stream",
     "text": [
      "Epoch 32: 100%|██████████| 44/44 [00:02<00:00, 16.18batch/s, train_loss=23.8488]\n"
     ]
    },
    {
     "name": "stdout",
     "output_type": "stream",
     "text": [
      "Epoch 32 | Train Loss: 26.883594 | Val Loss: 28.208278 | Time: 2.72s\n",
      "New best model saved with validation loss: 28.208278\n"
     ]
    },
    {
     "name": "stderr",
     "output_type": "stream",
     "text": [
      "Epoch 33: 100%|██████████| 44/44 [00:02<00:00, 16.75batch/s, train_loss=41.9275]\n"
     ]
    },
    {
     "name": "stdout",
     "output_type": "stream",
     "text": [
      "Epoch 33 | Train Loss: 27.924671 | Val Loss: 32.379151 | Time: 2.63s\n"
     ]
    },
    {
     "name": "stderr",
     "output_type": "stream",
     "text": [
      "Epoch 34: 100%|██████████| 44/44 [00:02<00:00, 17.93batch/s, train_loss=25.4197]\n"
     ]
    },
    {
     "name": "stdout",
     "output_type": "stream",
     "text": [
      "Epoch 34 | Train Loss: 26.944664 | Val Loss: 27.827954 | Time: 2.45s\n",
      "New best model saved with validation loss: 27.827954\n"
     ]
    },
    {
     "name": "stderr",
     "output_type": "stream",
     "text": [
      "Epoch 35: 100%|██████████| 44/44 [00:02<00:00, 17.00batch/s, train_loss=14.8168]\n"
     ]
    },
    {
     "name": "stdout",
     "output_type": "stream",
     "text": [
      "Epoch 35 | Train Loss: 27.214497 | Val Loss: 31.781186 | Time: 2.59s\n"
     ]
    },
    {
     "name": "stderr",
     "output_type": "stream",
     "text": [
      "Epoch 36: 100%|██████████| 44/44 [00:02<00:00, 17.95batch/s, train_loss=31.6558]\n"
     ]
    },
    {
     "name": "stdout",
     "output_type": "stream",
     "text": [
      "Epoch 36 | Train Loss: 26.935001 | Val Loss: 29.190780 | Time: 2.45s\n"
     ]
    },
    {
     "name": "stderr",
     "output_type": "stream",
     "text": [
      "Epoch 37: 100%|██████████| 44/44 [00:02<00:00, 17.44batch/s, train_loss=16.0677]\n"
     ]
    },
    {
     "name": "stdout",
     "output_type": "stream",
     "text": [
      "Epoch 37 | Train Loss: 27.070803 | Val Loss: 29.342216 | Time: 2.52s\n"
     ]
    },
    {
     "name": "stderr",
     "output_type": "stream",
     "text": [
      "Epoch 38: 100%|██████████| 44/44 [00:02<00:00, 18.08batch/s, train_loss=27.8466]\n"
     ]
    },
    {
     "name": "stdout",
     "output_type": "stream",
     "text": [
      "Epoch 38 | Train Loss: 27.402120 | Val Loss: 31.401558 | Time: 2.43s\n"
     ]
    },
    {
     "name": "stderr",
     "output_type": "stream",
     "text": [
      "Epoch 39: 100%|██████████| 44/44 [00:02<00:00, 18.12batch/s, train_loss=16.1522]\n"
     ]
    },
    {
     "name": "stdout",
     "output_type": "stream",
     "text": [
      "Epoch 39 | Train Loss: 27.196494 | Val Loss: 28.770313 | Time: 2.43s\n"
     ]
    },
    {
     "name": "stderr",
     "output_type": "stream",
     "text": [
      "Epoch 40: 100%|██████████| 44/44 [00:02<00:00, 18.10batch/s, train_loss=12.6821]\n"
     ]
    },
    {
     "name": "stdout",
     "output_type": "stream",
     "text": [
      "Epoch 40 | Train Loss: 25.634066 | Val Loss: 30.829403 | Time: 2.43s\n"
     ]
    },
    {
     "name": "stderr",
     "output_type": "stream",
     "text": [
      "Epoch 41: 100%|██████████| 44/44 [00:02<00:00, 17.35batch/s, train_loss=25.1323]\n"
     ]
    },
    {
     "name": "stdout",
     "output_type": "stream",
     "text": [
      "Epoch 41 | Train Loss: 25.332212 | Val Loss: 30.988080 | Time: 2.54s\n"
     ]
    },
    {
     "name": "stderr",
     "output_type": "stream",
     "text": [
      "Epoch 42: 100%|██████████| 44/44 [00:02<00:00, 18.08batch/s, train_loss=20.9342]\n"
     ]
    },
    {
     "name": "stdout",
     "output_type": "stream",
     "text": [
      "Epoch 42 | Train Loss: 26.271837 | Val Loss: 29.198006 | Time: 2.43s\n"
     ]
    },
    {
     "name": "stderr",
     "output_type": "stream",
     "text": [
      "Epoch 43: 100%|██████████| 44/44 [00:02<00:00, 18.10batch/s, train_loss=37.4580]\n"
     ]
    },
    {
     "name": "stdout",
     "output_type": "stream",
     "text": [
      "Epoch 43 | Train Loss: 25.381503 | Val Loss: 28.907397 | Time: 2.43s\n"
     ]
    },
    {
     "name": "stderr",
     "output_type": "stream",
     "text": [
      "Epoch 44: 100%|██████████| 44/44 [00:02<00:00, 17.42batch/s, train_loss=9.7871] \n"
     ]
    },
    {
     "name": "stdout",
     "output_type": "stream",
     "text": [
      "Epoch 44 | Train Loss: 25.721187 | Val Loss: 28.596002 | Time: 2.53s\n"
     ]
    },
    {
     "name": "stderr",
     "output_type": "stream",
     "text": [
      "Epoch 45: 100%|██████████| 44/44 [00:02<00:00, 18.13batch/s, train_loss=28.1364]\n"
     ]
    },
    {
     "name": "stdout",
     "output_type": "stream",
     "text": [
      "Epoch 45 | Train Loss: 25.061563 | Val Loss: 27.469413 | Time: 2.43s\n",
      "New best model saved with validation loss: 27.469413\n"
     ]
    },
    {
     "name": "stderr",
     "output_type": "stream",
     "text": [
      "Epoch 46: 100%|██████████| 44/44 [00:02<00:00, 16.85batch/s, train_loss=31.9821]\n"
     ]
    },
    {
     "name": "stdout",
     "output_type": "stream",
     "text": [
      "Epoch 46 | Train Loss: 24.678441 | Val Loss: 27.426629 | Time: 2.61s\n",
      "New best model saved with validation loss: 27.426629\n"
     ]
    },
    {
     "name": "stderr",
     "output_type": "stream",
     "text": [
      "Epoch 47: 100%|██████████| 44/44 [00:02<00:00, 17.99batch/s, train_loss=13.2756]\n"
     ]
    },
    {
     "name": "stdout",
     "output_type": "stream",
     "text": [
      "Epoch 47 | Train Loss: 26.356708 | Val Loss: 30.924584 | Time: 2.45s\n"
     ]
    },
    {
     "name": "stderr",
     "output_type": "stream",
     "text": [
      "Epoch 48: 100%|██████████| 44/44 [00:02<00:00, 17.29batch/s, train_loss=26.2280]\n"
     ]
    },
    {
     "name": "stdout",
     "output_type": "stream",
     "text": [
      "Epoch 48 | Train Loss: 24.572751 | Val Loss: 27.793844 | Time: 2.55s\n"
     ]
    },
    {
     "name": "stderr",
     "output_type": "stream",
     "text": [
      "Epoch 49: 100%|██████████| 44/44 [00:02<00:00, 15.02batch/s, train_loss=23.9578]\n"
     ]
    },
    {
     "name": "stdout",
     "output_type": "stream",
     "text": [
      "Epoch 49 | Train Loss: 24.832055 | Val Loss: 28.579456 | Time: 2.93s\n"
     ]
    },
    {
     "name": "stderr",
     "output_type": "stream",
     "text": [
      "Epoch 50: 100%|██████████| 44/44 [00:02<00:00, 17.96batch/s, train_loss=22.9848]\n"
     ]
    },
    {
     "name": "stdout",
     "output_type": "stream",
     "text": [
      "Epoch 50 | Train Loss: 25.312089 | Val Loss: 30.071611 | Time: 2.45s\n"
     ]
    },
    {
     "data": {
      "image/png": "[encoded data removed]",
      "text/plain": [
       "<Figure size 1000x500 with 1 Axes>"
      ]
     },
     "metadata": {},
     "output_type": "display_data"
    },
    {
     "name": "stderr",
     "output_type": "stream",
     "text": [
      "Evaluating: 100%|██████████| 10/10 [00:00<00:00, 11.49it/s]"
     ]
    },
    {
     "name": "stdout",
     "output_type": "stream",
     "text": [
      "Test Loss: 22.970728\n",
      "Pipe Prediction Accuracy: 6.67%\n",
      "Average Position Error: 0.023907 units\n",
      "Training and evaluation complete.\n"
     ]
    },
    {
     "name": "stderr",
     "output_type": "stream",
     "text": [
      "\n"
     ]
    }
   ],
   "source": [
    "def main():\n",
    "    \"\"\"Main execution function\"\"\"\n",
    "    # Paths\n",
    "    data_dir = \"/Users/daghanerdonmez/Desktop/molecular-simulation-mlp/output-processing/Outputs_Copy\"\n",
    "    \n",
    "    # Create dataset\n",
    "    all_data = EmitterDataset(data_dir)\n",
    "    \n",
    "    # Split dataset: 70% training, 15% validation, 15% testing\n",
    "    total_size = len(all_data)\n",
    "    train_size = int(0.7 * total_size)\n",
    "    val_size = int(0.15 * total_size)\n",
    "    test_size = total_size - train_size - val_size\n",
    "    \n",
    "    train_dataset, val_dataset, test_dataset = torch.utils.data.random_split(\n",
    "        all_data, [train_size, val_size, test_size]\n",
    "    )\n",
    "    \n",
    "    print(f\"Dataset split: Train={len(train_dataset)}, Validation={len(val_dataset)}, Test={len(test_dataset)}\")\n",
    "    \n",
    "    # Create data loaders\n",
    "    batch_size = 16\n",
    "    train_loader = DataLoader(train_dataset, batch_size=batch_size, shuffle=True, num_workers=0)\n",
    "    val_loader = DataLoader(val_dataset, batch_size=batch_size, shuffle=False, num_workers=0)\n",
    "    test_loader = DataLoader(test_dataset, batch_size=batch_size, shuffle=False, num_workers=0)\n",
    "    \n",
    "    # Get sample data to determine input dimension\n",
    "    sample_features, _ = next(iter(train_loader))\n",
    "    input_dim = sample_features.shape[1]\n",
    "    print(f\"Input dimension: {input_dim}\")\n",
    "    \n",
    "    # Initialize model\n",
    "    model = EmitterLocalizationModel(input_dim).to(DEVICE)\n",
    "    print(f\"Training on {DEVICE}\")\n",
    "    print(model)\n",
    "    \n",
    "    # Train model\n",
    "    train_losses, val_losses = train_model(train_loader, val_loader, model, epochs=50)\n",
    "    \n",
    "    # Load best model for evaluation\n",
    "    model.load_state_dict(torch.load(\"best_emitter_model.pt\"))\n",
    "    \n",
    "    # Evaluate on test set\n",
    "    test_loss, pipe_accuracy, position_error = evaluate_model(model, test_loader)\n",
    "    \n",
    "    # Save final model\n",
    "    torch.save({\n",
    "        'model_state_dict': model.state_dict(),\n",
    "        'test_loss': test_loss,\n",
    "        'pipe_accuracy': pipe_accuracy,\n",
    "        'position_error': position_error\n",
    "    }, \"emitter_model_final.pt\")\n",
    "    \n",
    "    print(\"Training and evaluation complete.\")\n",
    "\n",
    "if __name__ == \"__main__\":\n",
    "    main()"
   ]
  },
  {
   "cell_type": "code",
   "execution_count": null,
   "id": "73605299",
   "metadata": {},
   "outputs": [],
   "source": []
  }
 ],
 "metadata": {
  "kernelspec": {
   "display_name": ".venv",
   "language": "python",
   "name": "python3"
  },
  "language_info": {
   "codemirror_mode": {
    "name": "ipython",
    "version": 3
   },
   "file_extension": ".py",
   "mimetype": "text/x-python",
   "name": "python",
   "nbconvert_exporter": "python",
   "pygments_lexer": "ipython3",
   "version": "3.13.1"
  }
 },
 "nbformat": 4,
 "nbformat_minor": 5
}
