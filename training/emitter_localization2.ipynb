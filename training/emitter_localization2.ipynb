{
 "cells": [
  {
   "cell_type": "code",
   "execution_count": 1,
   "id": "ebd39625",
   "metadata": {},
   "outputs": [],
   "source": [
    "import os\n",
    "import glob\n",
    "import numpy as np\n",
    "import torch\n",
    "import torch.nn as nn\n",
    "import torch.optim as optim\n",
    "from torch.utils.data import Dataset, DataLoader\n",
    "import matplotlib.pyplot as plt\n",
    "from tqdm import tqdm\n",
    "import time\n",
    "\n",
    "# Constants\n",
    "MAX_PIPES = 40  # For pipe1 through pipe39\n",
    "DEVICE = torch.device(\"cuda\" if torch.cuda.is_available() else \"cpu\")\n",
    "\n",
    "class PipeNetwork:\n",
    "    def __init__(self, max_pipes=MAX_PIPES):\n",
    "        \"\"\"\n",
    "        Helper class to represent the pipe network structure.\n",
    "        \"\"\"\n",
    "        self.max_pipes = max_pipes\n",
    "        self.parent_map = {}  # Maps pipe_id -> parent_id\n",
    "        self.child_map = {}   # Maps pipe_id -> list of child pipe_ids\n",
    "        self.pipe_data = {}   # Maps pipe_id -> (length, radius, has_receiver)\n",
    "        self.ancestors = {}   # Maps pipe_id -> list of ancestor pipe_ids\n",
    "        self.descendants = {} # Maps pipe_id -> list of descendant pipe_ids\n",
    "        self.distances = {}   # Maps (pipe_id1, pipe_id2) -> network distance\n",
    "        \n",
    "    def add_pipe(self, pipe_id, parent_id, length, radius, has_receiver):\n",
    "        \"\"\"Add a pipe to the network with its properties.\"\"\"\n",
    "        self.parent_map[pipe_id] = parent_id\n",
    "        self.pipe_data[pipe_id] = (length, radius, has_receiver)\n",
    "        \n",
    "        # Update child_map\n",
    "        if parent_id not in self.child_map and parent_id != -1:\n",
    "            self.child_map[parent_id] = []\n",
    "        if parent_id != -1:\n",
    "            self.child_map[parent_id].append(pipe_id)\n",
    "            \n",
    "    def build_network_structure(self):\n",
    "        \"\"\"Build additional network structure information after all pipes are added.\"\"\"\n",
    "        # Calculate ancestors for each pipe\n",
    "        for pipe_id in self.pipe_data.keys():\n",
    "            self.ancestors[pipe_id] = self._get_ancestors(pipe_id)\n",
    "            \n",
    "        # Calculate descendants for each pipe\n",
    "        for pipe_id in self.pipe_data.keys():\n",
    "            self.descendants[pipe_id] = self._get_descendants(pipe_id)\n",
    "            \n",
    "        # Calculate network distances between all pairs of pipes\n",
    "        pipe_ids = list(self.pipe_data.keys())\n",
    "        for i in range(len(pipe_ids)):\n",
    "            for j in range(i, len(pipe_ids)):\n",
    "                pipe_id1 = pipe_ids[i]\n",
    "                pipe_id2 = pipe_ids[j]\n",
    "                distance = self._calculate_network_distance(pipe_id1, pipe_id2)\n",
    "                self.distances[(pipe_id1, pipe_id2)] = distance\n",
    "                self.distances[(pipe_id2, pipe_id1)] = distance\n",
    "    \n",
    "    def _get_ancestors(self, pipe_id):\n",
    "        \"\"\"Get all ancestors (parent, grandparent, etc.) of a pipe.\"\"\"\n",
    "        ancestors = []\n",
    "        current = pipe_id\n",
    "        while self.parent_map.get(current, -1) != -1:\n",
    "            current = self.parent_map[current]\n",
    "            ancestors.append(current)\n",
    "        return ancestors\n",
    "    \n",
    "    def _get_descendants(self, pipe_id):\n",
    "        \"\"\"Get all descendants of a pipe recursively.\"\"\"\n",
    "        descendants = []\n",
    "        if pipe_id in self.child_map:\n",
    "            children = self.child_map[pipe_id]\n",
    "            descendants.extend(children)\n",
    "            for child in children:\n",
    "                descendants.extend(self._get_descendants(child))\n",
    "        return descendants\n",
    "    \n",
    "    def _calculate_network_distance(self, pipe_id1, pipe_id2):\n",
    "        \"\"\"\n",
    "        Calculate the network distance (number of hops) between two pipes.\n",
    "        \"\"\"\n",
    "        if pipe_id1 == pipe_id2:\n",
    "            return 0\n",
    "            \n",
    "        # Check if pipe2 is an ancestor of pipe1\n",
    "        if pipe_id2 in self.ancestors.get(pipe_id1, []):\n",
    "            return len(self._get_path_to_ancestor(pipe_id1, pipe_id2))\n",
    "            \n",
    "        # Check if pipe1 is an ancestor of pipe2\n",
    "        if pipe_id1 in self.ancestors.get(pipe_id2, []):\n",
    "            return len(self._get_path_to_ancestor(pipe_id2, pipe_id1))\n",
    "            \n",
    "        # Find nearest common ancestor\n",
    "        ancestors1 = self.ancestors.get(pipe_id1, [])\n",
    "        ancestors2 = self.ancestors.get(pipe_id2, [])\n",
    "        \n",
    "        for ancestor in ancestors1:\n",
    "            if ancestor in ancestors2:\n",
    "                # Distance = path from pipe1 to ancestor + path from pipe2 to ancestor\n",
    "                return (len(self._get_path_to_ancestor(pipe_id1, ancestor)) + \n",
    "                        len(self._get_path_to_ancestor(pipe_id2, ancestor)))\n",
    "                \n",
    "        # No common ancestor found (should not happen in a tree)\n",
    "        return self.max_pipes\n",
    "        \n",
    "    def _get_path_to_ancestor(self, pipe_id, ancestor_id):\n",
    "        \"\"\"Get the path from a pipe to one of its ancestors.\"\"\"\n",
    "        path = []\n",
    "        current = pipe_id\n",
    "        while current != ancestor_id and self.parent_map.get(current, -1) != -1:\n",
    "            path.append(current)\n",
    "            current = self.parent_map[current]\n",
    "        if current == ancestor_id:\n",
    "            path.append(ancestor_id)\n",
    "        return path\n",
    "    \n",
    "    def get_network_features(self, emitter_pipe_id=None):\n",
    "        \"\"\"\n",
    "        Generate network-aware features for all pipes.\n",
    "        \n",
    "        Returns:\n",
    "            numpy array of shape (max_pipes, feature_dim)\n",
    "        \"\"\"\n",
    "        feature_dim = 10  # Adjust based on features below\n",
    "        features = np.zeros((self.max_pipes, feature_dim), dtype=np.float32)\n",
    "        \n",
    "        for pipe_id, (length, radius, has_receiver) in self.pipe_data.items():\n",
    "            if pipe_id >= self.max_pipes:\n",
    "                continue\n",
    "                \n",
    "            # Base pipe features\n",
    "            parent_id = self.parent_map.get(pipe_id, -1)\n",
    "            \n",
    "            # Network structural features\n",
    "            num_ancestors = len(self.ancestors.get(pipe_id, []))\n",
    "            num_descendants = len(self.descendants.get(pipe_id, []))\n",
    "            \n",
    "            # Distance to emitter if known\n",
    "            distance_to_emitter = 0\n",
    "            \n",
    "            # Distance to root\n",
    "            distance_to_root = len(self.ancestors.get(pipe_id, []))\n",
    "            \n",
    "            # Calculate shortest distance to a receiver\n",
    "            min_distance_to_receiver = self.max_pipes\n",
    "            for other_id, (_, _, other_has_receiver) in self.pipe_data.items():\n",
    "                if other_has_receiver:\n",
    "                    dist = self.distances.get((pipe_id, other_id), self.max_pipes)\n",
    "                    min_distance_to_receiver = min(min_distance_to_receiver, dist)\n",
    "            \n",
    "            # Normalize features\n",
    "            features[pipe_id-1] = [\n",
    "                pipe_id / self.max_pipes,                  # Pipe ID (normalized)\n",
    "                parent_id / self.max_pipes if parent_id > 0 else -0.1,  # Parent ID (normalized)\n",
    "                length,                                    # Length\n",
    "                radius,                                    # Radius\n",
    "                1.0 if has_receiver else 0.0,              # Has receiver flag\n",
    "                num_ancestors / self.max_pipes,            # Normalized number of ancestors\n",
    "                num_descendants / self.max_pipes,          # Normalized number of descendants\n",
    "                distance_to_root / self.max_pipes,         # Normalized distance to root\n",
    "                distance_to_emitter / self.max_pipes,      # Normalized distance to emitter (0 during inference)\n",
    "                min_distance_to_receiver / self.max_pipes  # Normalized distance to nearest receiver\n",
    "            ]\n",
    "            \n",
    "        return features"
   ]
  },
  {
   "cell_type": "code",
   "execution_count": 2,
   "id": "57042b5f",
   "metadata": {},
   "outputs": [],
   "source": [
    "class EnhancedEmitterDataset(Dataset):\n",
    "    def __init__(self, data_dir):\n",
    "        self.data_dir = data_dir\n",
    "        self.run_folders = sorted([\n",
    "            f for f in os.listdir(data_dir) \n",
    "            if os.path.isdir(os.path.join(data_dir, f)) and not f.startswith('.')\n",
    "        ])\n",
    "        \n",
    "        # Process all runs\n",
    "        self.features = []\n",
    "        self.targets = []\n",
    "        self._process_runs()\n",
    "        \n",
    "    def _process_runs(self):\n",
    "        print(f\"Processing {len(self.run_folders)} simulation runs...\")\n",
    "        \n",
    "        for run_folder in tqdm(self.run_folders):\n",
    "            try:\n",
    "                features, target = self._process_single_run(run_folder)\n",
    "                self.features.append(features)\n",
    "                self.targets.append(target)\n",
    "            except Exception as e:\n",
    "                print(f\"Error processing run folder {run_folder}: {str(e)}\")\n",
    "                \n",
    "        # Convert lists to tensors\n",
    "        self.features = torch.tensor(np.array(self.features), dtype=torch.float32)\n",
    "        self.targets = torch.tensor(np.array(self.targets), dtype=torch.float32)\n",
    "        \n",
    "    def _process_single_run(self, run_folder):\n",
    "        run_path = os.path.join(self.data_dir, run_folder)\n",
    "        \n",
    "        # Create pipe network\n",
    "        network = PipeNetwork()\n",
    "        receiver_data = {}\n",
    "        \n",
    "        # Process pipe and receiver data\n",
    "        pipe_folders = sorted([\n",
    "            f for f in os.listdir(run_path) \n",
    "            if os.path.isdir(os.path.join(run_path, f)) and f.startswith('pipe')\n",
    "        ], key=lambda x: int(x.replace('pipe', '')))\n",
    "        \n",
    "        # First pass: collect pipe structure information\n",
    "        for pipe_folder in pipe_folders:\n",
    "            pipe_id = int(pipe_folder.replace('pipe', ''))\n",
    "            if pipe_id > MAX_PIPES:\n",
    "                continue\n",
    "                \n",
    "            pipe_path = os.path.join(run_path, pipe_folder)\n",
    "            \n",
    "            # Read pipe data\n",
    "            sim_data_path = os.path.join(pipe_path, \"simulation_data.txt\")\n",
    "            if os.path.exists(sim_data_path):\n",
    "                with open(sim_data_path, 'r') as f:\n",
    "                    line = f.readline().strip().split()\n",
    "                    p_id = int(line[0])\n",
    "                    parent_id = int(line[1])\n",
    "                    length = float(line[2])\n",
    "                    radius = float(line[3])\n",
    "                    \n",
    "                    # Check for receivers\n",
    "                    has_receiver = len(glob.glob(os.path.join(pipe_path, \"#*-Ring type.txt\"))) > 0\n",
    "                    \n",
    "                    # Add pipe to network\n",
    "                    network.add_pipe(p_id, parent_id, length, radius, has_receiver)\n",
    "            \n",
    "            # Collect receiver data\n",
    "            receiver_files = glob.glob(os.path.join(pipe_path, \"#*-Ring type.txt\"))\n",
    "            for rec_file in receiver_files:\n",
    "                with open(rec_file, 'r') as f:\n",
    "                    # Read receiver location and stats\n",
    "                    first_line = f.readline().strip().split()\n",
    "                    second_line = f.readline().strip().split(',')\n",
    "                    \n",
    "                    rec_pipe_id = int(first_line[0])\n",
    "                    r_coord = float(first_line[1])\n",
    "                    z_coord = float(first_line[2])\n",
    "                    \n",
    "                    # Parse statistics\n",
    "                    stats = [float(val.strip()) for val in second_line[:7]]  # Take up to 7 stats\n",
    "                    \n",
    "                    # Store receiver data\n",
    "                    if rec_pipe_id not in receiver_data:\n",
    "                        receiver_data[rec_pipe_id] = []\n",
    "                    receiver_data[rec_pipe_id].append((r_coord, z_coord, stats))\n",
    "        \n",
    "        # Build network structure once all pipes are added\n",
    "        network.build_network_structure()\n",
    "        \n",
    "        # Read target emitter location\n",
    "        target_path = os.path.join(run_path, \"targetOutput.txt\")\n",
    "        with open(target_path, 'r') as f:\n",
    "            line = f.readline().strip().split()\n",
    "            emitter_pipe_id = int(line[0])\n",
    "            emitter_r = float(line[1])\n",
    "            emitter_z = float(line[2]) if len(line) > 2 else 0.0\n",
    "        \n",
    "        # Get enhanced network-aware features\n",
    "        network_features = network.get_network_features(emitter_pipe_id)\n",
    "        \n",
    "        # Process receiver data into a fixed-size feature vector\n",
    "        receiver_features = np.zeros((MAX_PIPES, 10), dtype=np.float32)\n",
    "        for pipe_id, receivers in receiver_data.items():\n",
    "            if pipe_id >= MAX_PIPES:\n",
    "                continue\n",
    "                \n",
    "            # Average stats if multiple receivers in the same pipe\n",
    "            avg_r = np.mean([r for r, _, _ in receivers])\n",
    "            avg_z = np.mean([z for _, z, _ in receivers])\n",
    "            avg_stats = np.mean([s for _, _, s in receivers], axis=0)\n",
    "            \n",
    "            # Normalize pipe ID\n",
    "            receiver_features[pipe_id-1] = np.concatenate([\n",
    "                [pipe_id / MAX_PIPES, avg_r, avg_z],\n",
    "                avg_stats\n",
    "            ])\n",
    "        \n",
    "        # Flatten and combine features\n",
    "        flat_network_features = network_features.flatten()\n",
    "        flat_receiver_features = receiver_features.flatten()\n",
    "        \n",
    "        # Create final feature vector\n",
    "        combined_features = np.concatenate([flat_network_features, flat_receiver_features])\n",
    "        \n",
    "        # Create target vector with normalized pipe ID\n",
    "        target = np.array([\n",
    "            emitter_pipe_id / MAX_PIPES,  # Normalized pipe ID\n",
    "            emitter_r,                    # r coordinate\n",
    "            emitter_z                     # z coordinate\n",
    "        ], dtype=np.float32)\n",
    "        \n",
    "        return combined_features, target\n",
    "        \n",
    "    def __len__(self):\n",
    "        return len(self.features)\n",
    "    \n",
    "    def __getitem__(self, idx):\n",
    "        return self.features[idx], self.targets[idx]"
   ]
  },
  {
   "cell_type": "code",
   "execution_count": 3,
   "id": "4b6ecd9d",
   "metadata": {},
   "outputs": [],
   "source": [
    "class TreeAwareEmitterModel(nn.Module):\n",
    "    def __init__(self, input_dim):\n",
    "        super(TreeAwareEmitterModel, self).__init__()\n",
    "        \n",
    "        # Separate branches for network structure and receiver data\n",
    "        self.network_encoder = nn.Sequential(\n",
    "            nn.Linear(MAX_PIPES * 10, 512),  # 10 features per pipe\n",
    "            nn.BatchNorm1d(512),\n",
    "            nn.ReLU(),\n",
    "            nn.Dropout(0.2),\n",
    "            nn.Linear(512, 256),\n",
    "            nn.BatchNorm1d(256),\n",
    "            nn.ReLU()\n",
    "        )\n",
    "        \n",
    "        self.receiver_encoder = nn.Sequential(\n",
    "            nn.Linear(MAX_PIPES * 10, 512),  # 10 features per receiver\n",
    "            nn.BatchNorm1d(512),\n",
    "            nn.ReLU(),\n",
    "            nn.Dropout(0.2),\n",
    "            nn.Linear(512, 256),\n",
    "            nn.BatchNorm1d(256),\n",
    "            nn.ReLU()\n",
    "        )\n",
    "        \n",
    "        # Combined layers\n",
    "        self.combined_layers = nn.Sequential(\n",
    "            nn.Linear(512, 256),  # 256 + 256 from both branches\n",
    "            nn.BatchNorm1d(256),\n",
    "            nn.ReLU(),\n",
    "            nn.Dropout(0.2),\n",
    "            nn.Linear(256, 128),\n",
    "            nn.BatchNorm1d(128),\n",
    "            nn.ReLU(),\n",
    "            nn.Linear(128, 64),\n",
    "            nn.ReLU()\n",
    "        )\n",
    "        \n",
    "        # Separate heads for pipe classification and position regression\n",
    "        self.pipe_head = nn.Linear(64, 1)  # Single value for pipe ID\n",
    "        self.position_head = nn.Linear(64, 2)  # r, z coordinates\n",
    "        \n",
    "    def forward(self, x):\n",
    "        # Split the input into network and receiver features\n",
    "        network_features = x[:, :MAX_PIPES * 10]\n",
    "        receiver_features = x[:, MAX_PIPES * 10:]\n",
    "        \n",
    "        # Process each branch\n",
    "        network_encoding = self.network_encoder(network_features)\n",
    "        receiver_encoding = self.receiver_encoder(receiver_features)\n",
    "        \n",
    "        # Combine branches\n",
    "        combined = torch.cat((network_encoding, receiver_encoding), dim=1)\n",
    "        features = self.combined_layers(combined)\n",
    "        \n",
    "        # Get predictions from each head\n",
    "        pipe_pred = self.pipe_head(features)\n",
    "        position_pred = self.position_head(features)\n",
    "        \n",
    "        # Combine predictions into single output\n",
    "        return torch.cat((pipe_pred, position_pred), dim=1)"
   ]
  },
  {
   "cell_type": "code",
   "execution_count": 4,
   "id": "db83205a",
   "metadata": {},
   "outputs": [],
   "source": [
    "def custom_loss_function(pred, target, pipe_weight=5.0):\n",
    "    \"\"\"\n",
    "    Custom loss that weights pipe prediction higher than position prediction.\n",
    "    \n",
    "    Args:\n",
    "        pred: Model predictions [pipe_id, r, z]\n",
    "        target: Ground truth targets [pipe_id, r, z]\n",
    "        pipe_weight: Weight factor for pipe prediction loss\n",
    "    \"\"\"\n",
    "    # MSE for pipe ID - we're treating it as regression for simplicity\n",
    "    pipe_loss = nn.functional.mse_loss(pred[:, 0:1], target[:, 0:1])\n",
    "    \n",
    "    # MSE for position (r, z)\n",
    "    position_loss = nn.functional.mse_loss(pred[:, 1:], target[:, 1:])\n",
    "    \n",
    "    # Weighted sum\n",
    "    return pipe_weight * pipe_loss + position_loss"
   ]
  },
  {
   "cell_type": "code",
   "execution_count": 5,
   "id": "f22c1b46",
   "metadata": {},
   "outputs": [
    {
     "name": "stdout",
     "output_type": "stream",
     "text": [
      "Creating datasets...\n",
      "Processing 1101 simulation runs...\n"
     ]
    },
    {
     "name": "stderr",
     "output_type": "stream",
     "text": [
      "  0%|          | 0/1101 [00:00<?, ?it/s]"
     ]
    },
    {
     "name": "stderr",
     "output_type": "stream",
     "text": [
      "100%|██████████| 1101/1101 [00:03<00:00, 353.08it/s]\n"
     ]
    },
    {
     "name": "stdout",
     "output_type": "stream",
     "text": [
      "Error processing run folder 2025.06.15-19.18.52.973: invalid literal for int() with base 10: 'Non'\n",
      "Training: 770 samples, Validation: 165 samples, Test: 165 samples\n",
      "Model initialized with input dimension: 800\n",
      "Training on: cpu\n"
     ]
    },
    {
     "name": "stderr",
     "output_type": "stream",
     "text": [
      "                                                                           \r"
     ]
    },
    {
     "name": "stdout",
     "output_type": "stream",
     "text": [
      "New best model saved (loss: 0.078207)\n",
      "Epoch 10/500 | Train loss: 0.048529 | Val loss: 0.078207 | Time: 0.17s\n"
     ]
    },
    {
     "name": "stderr",
     "output_type": "stream",
     "text": [
      "                                                                           \r"
     ]
    },
    {
     "name": "stdout",
     "output_type": "stream",
     "text": [
      "Epoch 20/500 | Train loss: 0.041299 | Val loss: 0.222564 | Time: 0.16s\n"
     ]
    },
    {
     "name": "stderr",
     "output_type": "stream",
     "text": [
      "                                                                            \r"
     ]
    },
    {
     "name": "stdout",
     "output_type": "stream",
     "text": [
      "Epoch 30/500 | Train loss: 0.034993 | Val loss: 0.111397 | Time: 0.26s\n"
     ]
    },
    {
     "name": "stderr",
     "output_type": "stream",
     "text": [
      "                                                                            \r"
     ]
    },
    {
     "name": "stdout",
     "output_type": "stream",
     "text": [
      "New best model saved (loss: 0.075427)\n",
      "Epoch 40/500 | Train loss: 0.031994 | Val loss: 0.075427 | Time: 0.17s\n"
     ]
    },
    {
     "name": "stderr",
     "output_type": "stream",
     "text": [
      "                                                                             \r"
     ]
    },
    {
     "name": "stdout",
     "output_type": "stream",
     "text": [
      "Epoch 50/500 | Train loss: 0.025255 | Val loss: 0.079175 | Time: 0.16s\n"
     ]
    },
    {
     "name": "stderr",
     "output_type": "stream",
     "text": [
      "                                                                             \r"
     ]
    },
    {
     "name": "stdout",
     "output_type": "stream",
     "text": [
      "Epoch 60/500 | Train loss: 0.025831 | Val loss: 0.110526 | Time: 0.16s\n"
     ]
    },
    {
     "name": "stderr",
     "output_type": "stream",
     "text": [
      "                                                                           \r"
     ]
    },
    {
     "name": "stdout",
     "output_type": "stream",
     "text": [
      "Epoch 70/500 | Train loss: 0.029078 | Val loss: 0.144651 | Time: 0.16s\n"
     ]
    },
    {
     "name": "stderr",
     "output_type": "stream",
     "text": [
      "                                                                            \r"
     ]
    },
    {
     "name": "stdout",
     "output_type": "stream",
     "text": [
      "Epoch 80/500 | Train loss: 0.022678 | Val loss: 0.080646 | Time: 0.16s\n"
     ]
    },
    {
     "name": "stderr",
     "output_type": "stream",
     "text": [
      "                                                                            \r"
     ]
    },
    {
     "name": "stdout",
     "output_type": "stream",
     "text": [
      "Epoch 90/500 | Train loss: 0.022360 | Val loss: 0.407119 | Time: 0.16s\n"
     ]
    },
    {
     "name": "stderr",
     "output_type": "stream",
     "text": [
      "                                                                             \r"
     ]
    },
    {
     "name": "stdout",
     "output_type": "stream",
     "text": [
      "Epoch 100/500 | Train loss: 0.018941 | Val loss: 0.134403 | Time: 0.16s\n"
     ]
    },
    {
     "name": "stderr",
     "output_type": "stream",
     "text": [
      "                                                                            \r"
     ]
    },
    {
     "name": "stdout",
     "output_type": "stream",
     "text": [
      "Epoch 110/500 | Train loss: 0.017306 | Val loss: 0.251658 | Time: 0.16s\n"
     ]
    },
    {
     "name": "stderr",
     "output_type": "stream",
     "text": [
      "                                                                             \r"
     ]
    },
    {
     "name": "stdout",
     "output_type": "stream",
     "text": [
      "Epoch 120/500 | Train loss: 0.017295 | Val loss: 0.089877 | Time: 0.16s\n"
     ]
    },
    {
     "name": "stderr",
     "output_type": "stream",
     "text": [
      "                                                                             \r"
     ]
    },
    {
     "name": "stdout",
     "output_type": "stream",
     "text": [
      "Epoch 130/500 | Train loss: 0.017729 | Val loss: 0.087698 | Time: 0.17s\n"
     ]
    },
    {
     "name": "stderr",
     "output_type": "stream",
     "text": [
      "                                                                             \r"
     ]
    },
    {
     "name": "stdout",
     "output_type": "stream",
     "text": [
      "Epoch 140/500 | Train loss: 0.018514 | Val loss: 0.090250 | Time: 0.16s\n"
     ]
    },
    {
     "name": "stderr",
     "output_type": "stream",
     "text": [
      "                                                                              \r"
     ]
    },
    {
     "name": "stdout",
     "output_type": "stream",
     "text": [
      "New best model saved (loss: 0.073581)\n",
      "Epoch 150/500 | Train loss: 0.018516 | Val loss: 0.073581 | Time: 0.16s\n"
     ]
    },
    {
     "name": "stderr",
     "output_type": "stream",
     "text": [
      "                                                                             \r"
     ]
    },
    {
     "name": "stdout",
     "output_type": "stream",
     "text": [
      "Epoch 160/500 | Train loss: 0.018175 | Val loss: 0.084889 | Time: 0.16s\n"
     ]
    },
    {
     "name": "stderr",
     "output_type": "stream",
     "text": [
      "                                                                             \r"
     ]
    },
    {
     "name": "stdout",
     "output_type": "stream",
     "text": [
      "Epoch 170/500 | Train loss: 0.013608 | Val loss: 0.087145 | Time: 0.16s\n"
     ]
    },
    {
     "name": "stderr",
     "output_type": "stream",
     "text": [
      "                                                                             \r"
     ]
    },
    {
     "name": "stdout",
     "output_type": "stream",
     "text": [
      "Epoch 180/500 | Train loss: 0.017292 | Val loss: 0.082690 | Time: 0.16s\n"
     ]
    },
    {
     "name": "stderr",
     "output_type": "stream",
     "text": [
      "                                                                             \r"
     ]
    },
    {
     "name": "stdout",
     "output_type": "stream",
     "text": [
      "Epoch 190/500 | Train loss: 0.014742 | Val loss: 0.084817 | Time: 0.16s\n"
     ]
    },
    {
     "name": "stderr",
     "output_type": "stream",
     "text": [
      "                                                                             \r"
     ]
    },
    {
     "name": "stdout",
     "output_type": "stream",
     "text": [
      "Epoch 200/500 | Train loss: 0.014236 | Val loss: 0.078574 | Time: 0.16s\n"
     ]
    },
    {
     "name": "stderr",
     "output_type": "stream",
     "text": [
      "                                                                             \r"
     ]
    },
    {
     "name": "stdout",
     "output_type": "stream",
     "text": [
      "Epoch 210/500 | Train loss: 0.015161 | Val loss: 0.084505 | Time: 0.16s\n"
     ]
    },
    {
     "name": "stderr",
     "output_type": "stream",
     "text": [
      "                                                                             \r"
     ]
    },
    {
     "name": "stdout",
     "output_type": "stream",
     "text": [
      "Epoch 220/500 | Train loss: 0.016592 | Val loss: 0.076656 | Time: 0.16s\n"
     ]
    },
    {
     "name": "stderr",
     "output_type": "stream",
     "text": [
      "                                                                             \r"
     ]
    },
    {
     "name": "stdout",
     "output_type": "stream",
     "text": [
      "Epoch 230/500 | Train loss: 0.012100 | Val loss: 0.083334 | Time: 0.17s\n"
     ]
    },
    {
     "name": "stderr",
     "output_type": "stream",
     "text": [
      "                                                                             \r"
     ]
    },
    {
     "name": "stdout",
     "output_type": "stream",
     "text": [
      "Epoch 240/500 | Train loss: 0.013537 | Val loss: 0.088596 | Time: 0.16s\n"
     ]
    },
    {
     "name": "stderr",
     "output_type": "stream",
     "text": [
      "                                                                             \r"
     ]
    },
    {
     "name": "stdout",
     "output_type": "stream",
     "text": [
      "Epoch 250/500 | Train loss: 0.014770 | Val loss: 0.084163 | Time: 0.17s\n"
     ]
    },
    {
     "name": "stderr",
     "output_type": "stream",
     "text": [
      "                                                                             \r"
     ]
    },
    {
     "name": "stdout",
     "output_type": "stream",
     "text": [
      "Epoch 260/500 | Train loss: 0.013394 | Val loss: 0.085299 | Time: 0.22s\n"
     ]
    },
    {
     "name": "stderr",
     "output_type": "stream",
     "text": [
      "                                                                              \r"
     ]
    },
    {
     "name": "stdout",
     "output_type": "stream",
     "text": [
      "Epoch 270/500 | Train loss: 0.015569 | Val loss: 0.083821 | Time: 0.16s\n"
     ]
    },
    {
     "name": "stderr",
     "output_type": "stream",
     "text": [
      "                                                                             \r"
     ]
    },
    {
     "name": "stdout",
     "output_type": "stream",
     "text": [
      "Epoch 280/500 | Train loss: 0.011803 | Val loss: 0.084591 | Time: 0.16s\n"
     ]
    },
    {
     "name": "stderr",
     "output_type": "stream",
     "text": [
      "                                                                             \r"
     ]
    },
    {
     "name": "stdout",
     "output_type": "stream",
     "text": [
      "Epoch 290/500 | Train loss: 0.012303 | Val loss: 0.090754 | Time: 0.16s\n"
     ]
    },
    {
     "name": "stderr",
     "output_type": "stream",
     "text": [
      "                                                                             \r"
     ]
    },
    {
     "name": "stdout",
     "output_type": "stream",
     "text": [
      "Epoch 300/500 | Train loss: 0.012174 | Val loss: 0.082116 | Time: 0.16s\n"
     ]
    },
    {
     "name": "stderr",
     "output_type": "stream",
     "text": [
      "                                                                             \r"
     ]
    },
    {
     "name": "stdout",
     "output_type": "stream",
     "text": [
      "Epoch 310/500 | Train loss: 0.011738 | Val loss: 0.085727 | Time: 0.16s\n"
     ]
    },
    {
     "name": "stderr",
     "output_type": "stream",
     "text": [
      "                                                                              \r"
     ]
    },
    {
     "name": "stdout",
     "output_type": "stream",
     "text": [
      "Epoch 320/500 | Train loss: 0.009999 | Val loss: 0.086894 | Time: 0.16s\n"
     ]
    },
    {
     "name": "stderr",
     "output_type": "stream",
     "text": [
      "                                                                             \r"
     ]
    },
    {
     "name": "stdout",
     "output_type": "stream",
     "text": [
      "Epoch 330/500 | Train loss: 0.008538 | Val loss: 0.085068 | Time: 0.16s\n"
     ]
    },
    {
     "name": "stderr",
     "output_type": "stream",
     "text": [
      "                                                                             \r"
     ]
    },
    {
     "name": "stdout",
     "output_type": "stream",
     "text": [
      "Epoch 340/500 | Train loss: 0.008346 | Val loss: 0.082525 | Time: 0.16s\n"
     ]
    },
    {
     "name": "stderr",
     "output_type": "stream",
     "text": [
      "                                                                             \r"
     ]
    },
    {
     "name": "stdout",
     "output_type": "stream",
     "text": [
      "Epoch 350/500 | Train loss: 0.012203 | Val loss: 0.080778 | Time: 0.17s\n"
     ]
    },
    {
     "name": "stderr",
     "output_type": "stream",
     "text": [
      "                                                                             \r"
     ]
    },
    {
     "name": "stdout",
     "output_type": "stream",
     "text": [
      "Epoch 360/500 | Train loss: 0.012945 | Val loss: 0.082949 | Time: 0.16s\n"
     ]
    },
    {
     "name": "stderr",
     "output_type": "stream",
     "text": [
      "                                                                             \r"
     ]
    },
    {
     "name": "stdout",
     "output_type": "stream",
     "text": [
      "Epoch 370/500 | Train loss: 0.011663 | Val loss: 0.086863 | Time: 0.23s\n"
     ]
    },
    {
     "name": "stderr",
     "output_type": "stream",
     "text": [
      "                                                                             \r"
     ]
    },
    {
     "name": "stdout",
     "output_type": "stream",
     "text": [
      "Epoch 380/500 | Train loss: 0.010732 | Val loss: 0.087197 | Time: 0.16s\n"
     ]
    },
    {
     "name": "stderr",
     "output_type": "stream",
     "text": [
      "                                                                             \r"
     ]
    },
    {
     "name": "stdout",
     "output_type": "stream",
     "text": [
      "Epoch 390/500 | Train loss: 0.010946 | Val loss: 0.083258 | Time: 0.19s\n"
     ]
    },
    {
     "name": "stderr",
     "output_type": "stream",
     "text": [
      "                                                                             \r"
     ]
    },
    {
     "name": "stdout",
     "output_type": "stream",
     "text": [
      "Epoch 400/500 | Train loss: 0.009723 | Val loss: 0.083153 | Time: 0.16s\n"
     ]
    },
    {
     "name": "stderr",
     "output_type": "stream",
     "text": [
      "                                                                             \r"
     ]
    },
    {
     "name": "stdout",
     "output_type": "stream",
     "text": [
      "Epoch 410/500 | Train loss: 0.010049 | Val loss: 0.084657 | Time: 0.16s\n"
     ]
    },
    {
     "name": "stderr",
     "output_type": "stream",
     "text": [
      "                                                                             \r"
     ]
    },
    {
     "name": "stdout",
     "output_type": "stream",
     "text": [
      "Epoch 420/500 | Train loss: 0.008640 | Val loss: 0.080988 | Time: 0.16s\n"
     ]
    },
    {
     "name": "stderr",
     "output_type": "stream",
     "text": [
      "                                                                             \r"
     ]
    },
    {
     "name": "stdout",
     "output_type": "stream",
     "text": [
      "Epoch 430/500 | Train loss: 0.008302 | Val loss: 0.081415 | Time: 0.16s\n"
     ]
    },
    {
     "name": "stderr",
     "output_type": "stream",
     "text": [
      "                                                                             \r"
     ]
    },
    {
     "name": "stdout",
     "output_type": "stream",
     "text": [
      "Epoch 440/500 | Train loss: 0.010472 | Val loss: 0.086778 | Time: 0.16s\n"
     ]
    },
    {
     "name": "stderr",
     "output_type": "stream",
     "text": [
      "                                                                             \r"
     ]
    },
    {
     "name": "stdout",
     "output_type": "stream",
     "text": [
      "Epoch 450/500 | Train loss: 0.008751 | Val loss: 0.082218 | Time: 0.16s\n"
     ]
    },
    {
     "name": "stderr",
     "output_type": "stream",
     "text": [
      "                                                                             \r"
     ]
    },
    {
     "name": "stdout",
     "output_type": "stream",
     "text": [
      "Epoch 460/500 | Train loss: 0.008123 | Val loss: 0.081924 | Time: 0.16s\n"
     ]
    },
    {
     "name": "stderr",
     "output_type": "stream",
     "text": [
      "                                                                             \r"
     ]
    },
    {
     "name": "stdout",
     "output_type": "stream",
     "text": [
      "Epoch 470/500 | Train loss: 0.010491 | Val loss: 0.083079 | Time: 0.16s\n"
     ]
    },
    {
     "name": "stderr",
     "output_type": "stream",
     "text": [
      "                                                                             \r"
     ]
    },
    {
     "name": "stdout",
     "output_type": "stream",
     "text": [
      "Epoch 480/500 | Train loss: 0.010339 | Val loss: 0.086920 | Time: 0.16s\n"
     ]
    },
    {
     "name": "stderr",
     "output_type": "stream",
     "text": [
      "                                                                             \r"
     ]
    },
    {
     "name": "stdout",
     "output_type": "stream",
     "text": [
      "Epoch 490/500 | Train loss: 0.009109 | Val loss: 0.088704 | Time: 0.16s\n"
     ]
    },
    {
     "name": "stderr",
     "output_type": "stream",
     "text": [
      "                                                                             \r"
     ]
    },
    {
     "name": "stdout",
     "output_type": "stream",
     "text": [
      "Epoch 500/500 | Train loss: 0.007655 | Val loss: 0.082820 | Time: 0.16s\n"
     ]
    },
    {
     "name": "stderr",
     "output_type": "stream",
     "text": [
      "Testing: 100%|██████████| 6/6 [00:00<00:00, 700.45it/s]\n"
     ]
    },
    {
     "name": "stdout",
     "output_type": "stream",
     "text": [
      "\n",
      "Test Results:\n",
      "Test Loss: 0.016154\n",
      "Pipe Prediction Accuracy: 3.64%\n",
      "Average Position Error: 0.001954 units\n"
     ]
    },
    {
     "data": {
      "image/png": "[encoded data removed]",
      "text/plain": [
       "<Figure size 1000x500 with 1 Axes>"
      ]
     },
     "metadata": {},
     "output_type": "display_data"
    }
   ],
   "source": [
    "def train_and_evaluate(data_dir, epochs=500, batch_size=32, lr=0.001):\n",
    "    \"\"\"\n",
    "    Train and evaluate the tree-aware emitter localization model.\n",
    "    \n",
    "    Args:\n",
    "        data_dir: Directory containing simulation runs\n",
    "        epochs: Number of training epochs\n",
    "        batch_size: Batch size for training\n",
    "        lr: Learning rate\n",
    "    \"\"\"\n",
    "    # Create dataset\n",
    "    print(\"Creating datasets...\")\n",
    "    full_dataset = EnhancedEmitterDataset(data_dir)\n",
    "    \n",
    "    # Split into train, validation, test\n",
    "    dataset_size = len(full_dataset)\n",
    "    train_size = int(0.7 * dataset_size)\n",
    "    val_size = int(0.15 * dataset_size)\n",
    "    test_size = dataset_size - train_size - val_size\n",
    "    \n",
    "    train_dataset, val_dataset, test_dataset = torch.utils.data.random_split(\n",
    "        full_dataset, [train_size, val_size, test_size]\n",
    "    )\n",
    "    \n",
    "    # Create dataloaders\n",
    "    train_loader = DataLoader(train_dataset, batch_size=batch_size, shuffle=True)\n",
    "    val_loader = DataLoader(val_dataset, batch_size=batch_size)\n",
    "    test_loader = DataLoader(test_dataset, batch_size=batch_size)\n",
    "    \n",
    "    print(f\"Training: {len(train_dataset)} samples, Validation: {len(val_dataset)} samples, Test: {len(test_dataset)} samples\")\n",
    "    \n",
    "    # Calculate input dimension and initialize model\n",
    "    sample_features, _ = full_dataset[0]\n",
    "    input_dim = sample_features.shape[0]\n",
    "    \n",
    "    model = TreeAwareEmitterModel(input_dim).to(DEVICE)\n",
    "    print(f\"Model initialized with input dimension: {input_dim}\")\n",
    "    print(f\"Training on: {DEVICE}\")\n",
    "    \n",
    "    optimizer = optim.Adam(model.parameters(), lr=lr)\n",
    "    \n",
    "    # Training loop\n",
    "    train_losses = []\n",
    "    val_losses = []\n",
    "    best_val_loss = float('inf')\n",
    "    \n",
    "    for epoch in range(1, epochs + 1):\n",
    "        # Training phase\n",
    "        model.train()\n",
    "        epoch_loss = 0\n",
    "        start_time = time.time()\n",
    "        \n",
    "        loop = tqdm(train_loader, desc=f\"Epoch {epoch}/{epochs}\", leave=False)\n",
    "        for features, targets in loop:\n",
    "            features, targets = features.to(DEVICE), targets.to(DEVICE)\n",
    "            \n",
    "            # Forward pass\n",
    "            optimizer.zero_grad()\n",
    "            outputs = model(features)\n",
    "            loss = custom_loss_function(outputs, targets)\n",
    "            \n",
    "            # Backward pass\n",
    "            loss.backward()\n",
    "            optimizer.step()\n",
    "            \n",
    "            batch_loss = loss.item()\n",
    "            epoch_loss += batch_loss * features.size(0)\n",
    "            loop.set_postfix({\"loss\": batch_loss})\n",
    "            \n",
    "        avg_train_loss = epoch_loss / len(train_dataset)\n",
    "        train_losses.append(avg_train_loss)\n",
    "        \n",
    "        # Validation phase\n",
    "        model.eval()\n",
    "        val_loss = 0\n",
    "        with torch.no_grad():\n",
    "            for features, targets in val_loader:\n",
    "                features, targets = features.to(DEVICE), targets.to(DEVICE)\n",
    "                outputs = model(features)\n",
    "                loss = custom_loss_function(outputs, targets)\n",
    "                val_loss += loss.item() * features.size(0)\n",
    "                \n",
    "        avg_val_loss = val_loss / len(val_dataset)\n",
    "        val_losses.append(avg_val_loss)\n",
    "        \n",
    "        if epoch % 10 == 0:\n",
    "            # Save best model\n",
    "            if avg_val_loss < best_val_loss:\n",
    "                best_val_loss = avg_val_loss\n",
    "                torch.save(model.state_dict(), \"best_emitter_model.pt\")\n",
    "                print(f\"New best model saved (loss: {best_val_loss:.6f})\")\n",
    "                \n",
    "            elapsed = time.time() - start_time\n",
    "            print(f\"Epoch {epoch}/{epochs} | Train loss: {avg_train_loss:.6f} | Val loss: {avg_val_loss:.6f} | Time: {elapsed:.2f}s\")\n",
    "        \n",
    "\n",
    "    # Load best model for testing\n",
    "    model.load_state_dict(torch.load(\"best_emitter_model.pt\"))\n",
    "    \n",
    "    # Test evaluation\n",
    "    model.eval()\n",
    "    test_loss = 0\n",
    "    pipe_correct = 0\n",
    "    position_errors = []\n",
    "    \n",
    "    with torch.no_grad():\n",
    "        for features, targets in tqdm(test_loader, desc=\"Testing\"):\n",
    "            features, targets = features.to(DEVICE), targets.to(DEVICE)\n",
    "            outputs = model(features)\n",
    "            \n",
    "            # Calculate test loss\n",
    "            loss = custom_loss_function(outputs, targets, pipe_weight=1.0)  # Equal weighting for evaluation\n",
    "            test_loss += loss.item() * features.size(0)\n",
    "            \n",
    "            # Convert normalized pipe IDs back to absolute IDs\n",
    "            pred_pipe_ids = torch.round(outputs[:, 0] * MAX_PIPES).long()\n",
    "            true_pipe_ids = torch.round(targets[:, 0] * MAX_PIPES).long()\n",
    "            \n",
    "            # Check pipe prediction accuracy\n",
    "            pipe_correct += (pred_pipe_ids == true_pipe_ids).sum().item()\n",
    "            \n",
    "            # Calculate position errors\n",
    "            position_error = torch.sqrt(\n",
    "                (outputs[:, 1] - targets[:, 1])**2 + (outputs[:, 2] - targets[:, 2])**2\n",
    "            )\n",
    "            position_errors.extend(position_error.cpu().numpy())\n",
    "            \n",
    "    # Calculate metrics\n",
    "    avg_test_loss = test_loss / len(test_dataset)\n",
    "    pipe_accuracy = pipe_correct / len(test_dataset) * 100\n",
    "    avg_position_error = np.mean(position_errors)\n",
    "    \n",
    "    print(\"\\nTest Results:\")\n",
    "    print(f\"Test Loss: {avg_test_loss:.6f}\")\n",
    "    print(f\"Pipe Prediction Accuracy: {pipe_accuracy:.2f}%\")\n",
    "    print(f\"Average Position Error: {avg_position_error:.6f} units\")\n",
    "    \n",
    "    # Plot training history\n",
    "    plt.figure(figsize=(10, 5))\n",
    "    plt.plot(train_losses, label=\"Training Loss\")\n",
    "    plt.plot(val_losses, label=\"Validation Loss\")\n",
    "    plt.xlabel(\"Epoch\")\n",
    "    plt.ylabel(\"Loss\")\n",
    "    plt.title(\"Training and Validation Loss\")\n",
    "    plt.legend()\n",
    "    plt.savefig(\"emitter_training_loss.png\")\n",
    "    plt.show()\n",
    "    \n",
    "    return model, avg_test_loss, pipe_accuracy, avg_position_error\n",
    "\n",
    "if __name__ == \"__main__\":\n",
    "    data_dir = \"/Users/daghanerdonmez/Desktop/molecular-simulation-mlp/output-processing/Outputs_Copy\"\n",
    "    train_and_evaluate(data_dir)"
   ]
  },
  {
   "cell_type": "code",
   "execution_count": null,
   "id": "df6c1b7d",
   "metadata": {},
   "outputs": [],
   "source": []
  }
 ],
 "metadata": {
  "kernelspec": {
   "display_name": ".venv",
   "language": "python",
   "name": "python3"
  },
  "language_info": {
   "codemirror_mode": {
    "name": "ipython",
    "version": 3
   },
   "file_extension": ".py",
   "mimetype": "text/x-python",
   "name": "python",
   "nbconvert_exporter": "python",
   "pygments_lexer": "ipython3",
   "version": "3.13.1"
  }
 },
 "nbformat": 4,
 "nbformat_minor": 5
}
